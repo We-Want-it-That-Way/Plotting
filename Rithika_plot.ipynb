{
  "nbformat": 4,
  "nbformat_minor": 0,
  "metadata": {
    "colab": {
      "name": "Rithika_plot.ipynb",
      "provenance": [],
      "collapsed_sections": [],
      "authorship_tag": "ABX9TyMfgW8TOhdhqqb1RpiIhUcd",
      "include_colab_link": true
    },
    "kernelspec": {
      "name": "python3",
      "display_name": "Python 3"
    },
    "language_info": {
      "name": "python"
    }
  },
  "cells": [
    {
      "cell_type": "markdown",
      "metadata": {
        "id": "view-in-github",
        "colab_type": "text"
      },
      "source": [
        "<a href=\"https://colab.research.google.com/github/We-Want-it-That-Way/Plotting/blob/main/Rithika_plot.ipynb\" target=\"_parent\"><img src=\"https://colab.research.google.com/assets/colab-badge.svg\" alt=\"Open In Colab\"/></a>"
      ]
    },
    {
      "cell_type": "code",
      "metadata": {
        "colab": {
          "base_uri": "https://localhost:8080/",
          "height": 343
        },
        "id": "OfLW-sVYQ_Bl",
        "outputId": "ff583a45-a342-4160-a4bd-42599ee17622"
      },
      "source": [
        "import pandas as pd\n",
        "import numpy as np\n",
        "import math\n",
        "\n",
        "G={'Name of pulsar':['J0205+6449','J0218+4232','J0437-4715','J0534+2200','J1105-6107','J1124-5916','J1617-5055','J1930+1852','J2124-3358','J2229+6114'],'po':[0.06571592849324,0.00232309053151224,0.005757451936712637,0.0333924123,0.0632021309179,0.13547685441,0.069356847,0.136855046957,0.00493111494309662,0.05162357393],'pdot':[1.93754256e-13,7.73955e-20,5.729215e-20,4.20972e-13,1.584462e-14,7.52566e-13,1.351e-13,7.5057e-13,2.05705e-20,7.827e-14],'D in Kpc':[3.200,3.150,0.157,2.000,2.360, 5.000, 4.743, 7.000, 0.410, 3.000],'Age':[5.37e+03,4.76e+08,1.59e+09,1.26e+03,6.32e+04,2.85e+03, 8.13e+03, 2.89e+03, 3.8e+09, 1.05e+04],'R_L':['NaN',466.36,13.52,2200.00,'NaN','NaN','NaN','NaN', 2.86, 13.50],'B_s':[3.61e+12,4.29e+08,4.29e+08,3.79e+12,1.01e+12,1.02e+13,3.1e+12,1.03e+13,3.22e+08,2.03e+12],\n",
        "'Edot':[2.7e+37,2.4e+35,1.2e+34,4.5e+38,2.5e+36,1.2e+37,1.6e+37,1.2e+37,6.8e+33,2.2e+37],\n",
        "'Edot2':[2.6e+36,2.5e+34,4.8e+35,1.1e+38,4.4e+35,4.8e+35,7.1e+35,2.4e+35,2.4e+35,2.5e+36],\n",
        "'B_sI':[3.61e+12,4.27e+08,2.85e+08,3.79e+12,'NaN','NaN','NaN','NaN', 1.92e+08,'NaN'],\n",
        "'B_Lc':[1.19e+05,3.21e+05,2.85e+04,9.55e+05,3.76e+04,3.85e+04, 8.70e+04, 3.75e+04, 2.52e+04, 1.39e+05]}\n",
        "l=pd.DataFrame(G)\n",
        "l.to_csv('High_energy_pulsar.csv')\n",
        "l"
      ],
      "execution_count": 36,
      "outputs": [
        {
          "output_type": "execute_result",
          "data": {
            "text/html": [
              "<div>\n",
              "<style scoped>\n",
              "    .dataframe tbody tr th:only-of-type {\n",
              "        vertical-align: middle;\n",
              "    }\n",
              "\n",
              "    .dataframe tbody tr th {\n",
              "        vertical-align: top;\n",
              "    }\n",
              "\n",
              "    .dataframe thead th {\n",
              "        text-align: right;\n",
              "    }\n",
              "</style>\n",
              "<table border=\"1\" class=\"dataframe\">\n",
              "  <thead>\n",
              "    <tr style=\"text-align: right;\">\n",
              "      <th></th>\n",
              "      <th>Name of pulsar</th>\n",
              "      <th>po</th>\n",
              "      <th>pdot</th>\n",
              "      <th>D in Kpc</th>\n",
              "      <th>Age</th>\n",
              "      <th>R_L</th>\n",
              "      <th>B_s</th>\n",
              "      <th>Edot</th>\n",
              "      <th>Edot2</th>\n",
              "      <th>B_sI</th>\n",
              "      <th>B_Lc</th>\n",
              "    </tr>\n",
              "  </thead>\n",
              "  <tbody>\n",
              "    <tr>\n",
              "      <th>0</th>\n",
              "      <td>J0205+6449</td>\n",
              "      <td>0.065716</td>\n",
              "      <td>1.937543e-13</td>\n",
              "      <td>3.200</td>\n",
              "      <td>5.370000e+03</td>\n",
              "      <td>NaN</td>\n",
              "      <td>3.610000e+12</td>\n",
              "      <td>2.700000e+37</td>\n",
              "      <td>2.600000e+36</td>\n",
              "      <td>3.61e+12</td>\n",
              "      <td>119000.0</td>\n",
              "    </tr>\n",
              "    <tr>\n",
              "      <th>1</th>\n",
              "      <td>J0218+4232</td>\n",
              "      <td>0.002323</td>\n",
              "      <td>7.739550e-20</td>\n",
              "      <td>3.150</td>\n",
              "      <td>4.760000e+08</td>\n",
              "      <td>466.36</td>\n",
              "      <td>4.290000e+08</td>\n",
              "      <td>2.400000e+35</td>\n",
              "      <td>2.500000e+34</td>\n",
              "      <td>4.27e+08</td>\n",
              "      <td>321000.0</td>\n",
              "    </tr>\n",
              "    <tr>\n",
              "      <th>2</th>\n",
              "      <td>J0437-4715</td>\n",
              "      <td>0.005757</td>\n",
              "      <td>5.729215e-20</td>\n",
              "      <td>0.157</td>\n",
              "      <td>1.590000e+09</td>\n",
              "      <td>13.52</td>\n",
              "      <td>4.290000e+08</td>\n",
              "      <td>1.200000e+34</td>\n",
              "      <td>4.800000e+35</td>\n",
              "      <td>2.85e+08</td>\n",
              "      <td>28500.0</td>\n",
              "    </tr>\n",
              "    <tr>\n",
              "      <th>3</th>\n",
              "      <td>J0534+2200</td>\n",
              "      <td>0.033392</td>\n",
              "      <td>4.209720e-13</td>\n",
              "      <td>2.000</td>\n",
              "      <td>1.260000e+03</td>\n",
              "      <td>2200</td>\n",
              "      <td>3.790000e+12</td>\n",
              "      <td>4.500000e+38</td>\n",
              "      <td>1.100000e+38</td>\n",
              "      <td>3.79e+12</td>\n",
              "      <td>955000.0</td>\n",
              "    </tr>\n",
              "    <tr>\n",
              "      <th>4</th>\n",
              "      <td>J1105-6107</td>\n",
              "      <td>0.063202</td>\n",
              "      <td>1.584462e-14</td>\n",
              "      <td>2.360</td>\n",
              "      <td>6.320000e+04</td>\n",
              "      <td>NaN</td>\n",
              "      <td>1.010000e+12</td>\n",
              "      <td>2.500000e+36</td>\n",
              "      <td>4.400000e+35</td>\n",
              "      <td>NaN</td>\n",
              "      <td>37600.0</td>\n",
              "    </tr>\n",
              "    <tr>\n",
              "      <th>5</th>\n",
              "      <td>J1124-5916</td>\n",
              "      <td>0.135477</td>\n",
              "      <td>7.525660e-13</td>\n",
              "      <td>5.000</td>\n",
              "      <td>2.850000e+03</td>\n",
              "      <td>NaN</td>\n",
              "      <td>1.020000e+13</td>\n",
              "      <td>1.200000e+37</td>\n",
              "      <td>4.800000e+35</td>\n",
              "      <td>NaN</td>\n",
              "      <td>38500.0</td>\n",
              "    </tr>\n",
              "    <tr>\n",
              "      <th>6</th>\n",
              "      <td>J1617-5055</td>\n",
              "      <td>0.069357</td>\n",
              "      <td>1.351000e-13</td>\n",
              "      <td>4.743</td>\n",
              "      <td>8.130000e+03</td>\n",
              "      <td>NaN</td>\n",
              "      <td>3.100000e+12</td>\n",
              "      <td>1.600000e+37</td>\n",
              "      <td>7.100000e+35</td>\n",
              "      <td>NaN</td>\n",
              "      <td>87000.0</td>\n",
              "    </tr>\n",
              "    <tr>\n",
              "      <th>7</th>\n",
              "      <td>J1930+1852</td>\n",
              "      <td>0.136855</td>\n",
              "      <td>7.505700e-13</td>\n",
              "      <td>7.000</td>\n",
              "      <td>2.890000e+03</td>\n",
              "      <td>NaN</td>\n",
              "      <td>1.030000e+13</td>\n",
              "      <td>1.200000e+37</td>\n",
              "      <td>2.400000e+35</td>\n",
              "      <td>NaN</td>\n",
              "      <td>37500.0</td>\n",
              "    </tr>\n",
              "    <tr>\n",
              "      <th>8</th>\n",
              "      <td>J2124-3358</td>\n",
              "      <td>0.004931</td>\n",
              "      <td>2.057050e-20</td>\n",
              "      <td>0.410</td>\n",
              "      <td>3.800000e+09</td>\n",
              "      <td>2.86</td>\n",
              "      <td>3.220000e+08</td>\n",
              "      <td>6.800000e+33</td>\n",
              "      <td>2.400000e+35</td>\n",
              "      <td>1.92e+08</td>\n",
              "      <td>25200.0</td>\n",
              "    </tr>\n",
              "    <tr>\n",
              "      <th>9</th>\n",
              "      <td>J2229+6114</td>\n",
              "      <td>0.051624</td>\n",
              "      <td>7.827000e-14</td>\n",
              "      <td>3.000</td>\n",
              "      <td>1.050000e+04</td>\n",
              "      <td>13.5</td>\n",
              "      <td>2.030000e+12</td>\n",
              "      <td>2.200000e+37</td>\n",
              "      <td>2.500000e+36</td>\n",
              "      <td>NaN</td>\n",
              "      <td>139000.0</td>\n",
              "    </tr>\n",
              "  </tbody>\n",
              "</table>\n",
              "</div>"
            ],
            "text/plain": [
              "  Name of pulsar        po          pdot  ...         Edot2      B_sI      B_Lc\n",
              "0     J0205+6449  0.065716  1.937543e-13  ...  2.600000e+36  3.61e+12  119000.0\n",
              "1     J0218+4232  0.002323  7.739550e-20  ...  2.500000e+34  4.27e+08  321000.0\n",
              "2     J0437-4715  0.005757  5.729215e-20  ...  4.800000e+35  2.85e+08   28500.0\n",
              "3     J0534+2200  0.033392  4.209720e-13  ...  1.100000e+38  3.79e+12  955000.0\n",
              "4     J1105-6107  0.063202  1.584462e-14  ...  4.400000e+35       NaN   37600.0\n",
              "5     J1124-5916  0.135477  7.525660e-13  ...  4.800000e+35       NaN   38500.0\n",
              "6     J1617-5055  0.069357  1.351000e-13  ...  7.100000e+35       NaN   87000.0\n",
              "7     J1930+1852  0.136855  7.505700e-13  ...  2.400000e+35       NaN   37500.0\n",
              "8     J2124-3358  0.004931  2.057050e-20  ...  2.400000e+35  1.92e+08   25200.0\n",
              "9     J2229+6114  0.051624  7.827000e-14  ...  2.500000e+36       NaN  139000.0\n",
              "\n",
              "[10 rows x 11 columns]"
            ]
          },
          "metadata": {
            "tags": []
          },
          "execution_count": 36
        }
      ]
    },
    {
      "cell_type": "code",
      "metadata": {
        "id": "I5VHBqT-ejEn"
      },
      "source": [
        ""
      ],
      "execution_count": 36,
      "outputs": []
    },
    {
      "cell_type": "code",
      "metadata": {
        "colab": {
          "base_uri": "https://localhost:8080/",
          "height": 343
        },
        "id": "JcK9UhnYR_2Y",
        "outputId": "48982778-3b74-475e-9b23-5330bad758f7"
      },
      "source": [
        "import pandas as pd\n",
        "import numpy as np\n",
        "import math\n",
        "A={'Name of pulsar':['J0537-6910','J0633+1746','J0543+2329','J1811-1925','J1846-0258','J0628+0909','J0633+1746','J0636-4549','J1811-4930','J1812-1718'],'po':[0.0161222220245,0.2370994416923,0.245983683333,0.06466700,0.32657128834,3.763733080,0.2370994416923,1.98459736713,1.4327041968,1.20537444137],'pdot':[5.1784338e-14,1.097087e-14,1.541956e-14,4.40e-14,7.107450e-12,0.5479e-15,1.097087e-14,3.1722e-15,2.254e-15,1.9077e-14],'D in Kpc':[49.700,0.190,1.565,5.000,5.800,1.771,0.190,0.383,1.447,3.678],'R_L':[0,0,71.03,0,0,0,0,0,0,0],'Age':[4.93e+03,3.42e+05,2.53e+05,2.33e+04,728,3.59e+07,3.42e+05,9.91e+06,1.01e+07,1e+06],'B_s':[9.25e+11,1.63e+12,1.97e+12,1.71e+12,4.88e+13,8.35e+11,1.63e+12,2.54e+12,1.82e+12,4.85e+12],'Edot':[4.9e+38,3.2e+34,4.1e+34,6.4e+36,8.1e+36,1.1e+31,3.2e+34,1.6e+31,3.0e+31,4.3e+32],'Edot2':[2.0e+35,9.0e+35,1.7e+34,2.6e+35,2.4e+35,3.6e+30,9.0e+35,1.1e+32,1.4e+31,3.2e+31],'B_sI':['NaN',1.63e+12,1.97e+12,'NaN','NaN','NaN',1.63e+12,'NaN','NaN','NaN'],'B_Lc':[2.07e+06,1.15e+03,1.24e+03,5.92e+04,1.31e+04,4.09e+00,1.15e+03,3.05e+00,5.80e+00,2.60e+01]}\n",
        "p=pd.DataFrame(A)\n",
        "p.to_csv('Non_Radio_pulsar.csv')\n",
        "p"
      ],
      "execution_count": 37,
      "outputs": [
        {
          "output_type": "execute_result",
          "data": {
            "text/html": [
              "<div>\n",
              "<style scoped>\n",
              "    .dataframe tbody tr th:only-of-type {\n",
              "        vertical-align: middle;\n",
              "    }\n",
              "\n",
              "    .dataframe tbody tr th {\n",
              "        vertical-align: top;\n",
              "    }\n",
              "\n",
              "    .dataframe thead th {\n",
              "        text-align: right;\n",
              "    }\n",
              "</style>\n",
              "<table border=\"1\" class=\"dataframe\">\n",
              "  <thead>\n",
              "    <tr style=\"text-align: right;\">\n",
              "      <th></th>\n",
              "      <th>Name of pulsar</th>\n",
              "      <th>po</th>\n",
              "      <th>pdot</th>\n",
              "      <th>D in Kpc</th>\n",
              "      <th>R_L</th>\n",
              "      <th>Age</th>\n",
              "      <th>B_s</th>\n",
              "      <th>Edot</th>\n",
              "      <th>Edot2</th>\n",
              "      <th>B_sI</th>\n",
              "      <th>B_Lc</th>\n",
              "    </tr>\n",
              "  </thead>\n",
              "  <tbody>\n",
              "    <tr>\n",
              "      <th>0</th>\n",
              "      <td>J0537-6910</td>\n",
              "      <td>0.016122</td>\n",
              "      <td>5.178434e-14</td>\n",
              "      <td>49.700</td>\n",
              "      <td>0.00</td>\n",
              "      <td>4930.0</td>\n",
              "      <td>9.250000e+11</td>\n",
              "      <td>4.900000e+38</td>\n",
              "      <td>2.000000e+35</td>\n",
              "      <td>NaN</td>\n",
              "      <td>2070000.00</td>\n",
              "    </tr>\n",
              "    <tr>\n",
              "      <th>1</th>\n",
              "      <td>J0633+1746</td>\n",
              "      <td>0.237099</td>\n",
              "      <td>1.097087e-14</td>\n",
              "      <td>0.190</td>\n",
              "      <td>0.00</td>\n",
              "      <td>342000.0</td>\n",
              "      <td>1.630000e+12</td>\n",
              "      <td>3.200000e+34</td>\n",
              "      <td>9.000000e+35</td>\n",
              "      <td>1.63e+12</td>\n",
              "      <td>1150.00</td>\n",
              "    </tr>\n",
              "    <tr>\n",
              "      <th>2</th>\n",
              "      <td>J0543+2329</td>\n",
              "      <td>0.245984</td>\n",
              "      <td>1.541956e-14</td>\n",
              "      <td>1.565</td>\n",
              "      <td>71.03</td>\n",
              "      <td>253000.0</td>\n",
              "      <td>1.970000e+12</td>\n",
              "      <td>4.100000e+34</td>\n",
              "      <td>1.700000e+34</td>\n",
              "      <td>1.97e+12</td>\n",
              "      <td>1240.00</td>\n",
              "    </tr>\n",
              "    <tr>\n",
              "      <th>3</th>\n",
              "      <td>J1811-1925</td>\n",
              "      <td>0.064667</td>\n",
              "      <td>4.400000e-14</td>\n",
              "      <td>5.000</td>\n",
              "      <td>0.00</td>\n",
              "      <td>23300.0</td>\n",
              "      <td>1.710000e+12</td>\n",
              "      <td>6.400000e+36</td>\n",
              "      <td>2.600000e+35</td>\n",
              "      <td>NaN</td>\n",
              "      <td>59200.00</td>\n",
              "    </tr>\n",
              "    <tr>\n",
              "      <th>4</th>\n",
              "      <td>J1846-0258</td>\n",
              "      <td>0.326571</td>\n",
              "      <td>7.107450e-12</td>\n",
              "      <td>5.800</td>\n",
              "      <td>0.00</td>\n",
              "      <td>728.0</td>\n",
              "      <td>4.880000e+13</td>\n",
              "      <td>8.100000e+36</td>\n",
              "      <td>2.400000e+35</td>\n",
              "      <td>NaN</td>\n",
              "      <td>13100.00</td>\n",
              "    </tr>\n",
              "    <tr>\n",
              "      <th>5</th>\n",
              "      <td>J0628+0909</td>\n",
              "      <td>3.763733</td>\n",
              "      <td>5.479000e-16</td>\n",
              "      <td>1.771</td>\n",
              "      <td>0.00</td>\n",
              "      <td>35900000.0</td>\n",
              "      <td>8.350000e+11</td>\n",
              "      <td>1.100000e+31</td>\n",
              "      <td>3.600000e+30</td>\n",
              "      <td>NaN</td>\n",
              "      <td>4.09</td>\n",
              "    </tr>\n",
              "    <tr>\n",
              "      <th>6</th>\n",
              "      <td>J0633+1746</td>\n",
              "      <td>0.237099</td>\n",
              "      <td>1.097087e-14</td>\n",
              "      <td>0.190</td>\n",
              "      <td>0.00</td>\n",
              "      <td>342000.0</td>\n",
              "      <td>1.630000e+12</td>\n",
              "      <td>3.200000e+34</td>\n",
              "      <td>9.000000e+35</td>\n",
              "      <td>1.63e+12</td>\n",
              "      <td>1150.00</td>\n",
              "    </tr>\n",
              "    <tr>\n",
              "      <th>7</th>\n",
              "      <td>J0636-4549</td>\n",
              "      <td>1.984597</td>\n",
              "      <td>3.172200e-15</td>\n",
              "      <td>0.383</td>\n",
              "      <td>0.00</td>\n",
              "      <td>9910000.0</td>\n",
              "      <td>2.540000e+12</td>\n",
              "      <td>1.600000e+31</td>\n",
              "      <td>1.100000e+32</td>\n",
              "      <td>NaN</td>\n",
              "      <td>3.05</td>\n",
              "    </tr>\n",
              "    <tr>\n",
              "      <th>8</th>\n",
              "      <td>J1811-4930</td>\n",
              "      <td>1.432704</td>\n",
              "      <td>2.254000e-15</td>\n",
              "      <td>1.447</td>\n",
              "      <td>0.00</td>\n",
              "      <td>10100000.0</td>\n",
              "      <td>1.820000e+12</td>\n",
              "      <td>3.000000e+31</td>\n",
              "      <td>1.400000e+31</td>\n",
              "      <td>NaN</td>\n",
              "      <td>5.80</td>\n",
              "    </tr>\n",
              "    <tr>\n",
              "      <th>9</th>\n",
              "      <td>J1812-1718</td>\n",
              "      <td>1.205374</td>\n",
              "      <td>1.907700e-14</td>\n",
              "      <td>3.678</td>\n",
              "      <td>0.00</td>\n",
              "      <td>1000000.0</td>\n",
              "      <td>4.850000e+12</td>\n",
              "      <td>4.300000e+32</td>\n",
              "      <td>3.200000e+31</td>\n",
              "      <td>NaN</td>\n",
              "      <td>26.00</td>\n",
              "    </tr>\n",
              "  </tbody>\n",
              "</table>\n",
              "</div>"
            ],
            "text/plain": [
              "  Name of pulsar        po          pdot  ...         Edot2      B_sI        B_Lc\n",
              "0     J0537-6910  0.016122  5.178434e-14  ...  2.000000e+35       NaN  2070000.00\n",
              "1     J0633+1746  0.237099  1.097087e-14  ...  9.000000e+35  1.63e+12     1150.00\n",
              "2     J0543+2329  0.245984  1.541956e-14  ...  1.700000e+34  1.97e+12     1240.00\n",
              "3     J1811-1925  0.064667  4.400000e-14  ...  2.600000e+35       NaN    59200.00\n",
              "4     J1846-0258  0.326571  7.107450e-12  ...  2.400000e+35       NaN    13100.00\n",
              "5     J0628+0909  3.763733  5.479000e-16  ...  3.600000e+30       NaN        4.09\n",
              "6     J0633+1746  0.237099  1.097087e-14  ...  9.000000e+35  1.63e+12     1150.00\n",
              "7     J0636-4549  1.984597  3.172200e-15  ...  1.100000e+32       NaN        3.05\n",
              "8     J1811-4930  1.432704  2.254000e-15  ...  1.400000e+31       NaN        5.80\n",
              "9     J1812-1718  1.205374  1.907700e-14  ...  3.200000e+31       NaN       26.00\n",
              "\n",
              "[10 rows x 11 columns]"
            ]
          },
          "metadata": {
            "tags": []
          },
          "execution_count": 37
        }
      ]
    },
    {
      "cell_type": "code",
      "metadata": {
        "colab": {
          "base_uri": "https://localhost:8080/",
          "height": 343
        },
        "id": "AXv6MInOSGG7",
        "outputId": "84fabf98-43aa-4058-a5f0-c9ce8dc34eaa"
      },
      "source": [
        "import pandas as pd\n",
        "import numpy as np\n",
        "import math\n",
        "R={'Name of pulsar':['J0100-7211','J0525-6607','J1708-4008','J1808-2024','J1809-1943','J1841-0456','J1907+0919','J2301+5852','J1745-2900','J0525-6607'],'po':[8.020392, 0.35443759451370,11.0062624,7.55592,5.540742829,11.7889784, 5.198346,6.9790709703,3.763733080,8.0470],'pdot':[1.88e-11, 7.36052e-17,1.960e-11,5.49e-10,2.8281e-12,4.092e-11,9.2e-11,4.7123e-13,1.756e-11,6.5e-11],'D in Kpc':[59.700, 1.841,3.800,13.000,3.600,9.600,'NaN',3.300,8.300,'NaN'],'R_L':[0, 66.09,0,0,0,0,0,0,0,0],'Age':[6.76e+03,7.63e+07,8.9e+03,218,3.1e+04,4.57e+03,895,2.35e+05,3.4e+03,1.96e+03],'B_s':[3.93e+14,1.63e+11,4.7e+14,2.06e+15,1.27e+14,7.03e+14,7e+14,5.8e+13,2.6e+14,7.32e+14],'Edot':[1.4e+33,6.5e+31,5.8e+32,5.0e+34,6.6e+32,9.9e+32,2.6e+34,5.5e+31,1.3e+34,4.9e+33],'Edot2':[4.0e+29,1.9e+31,4.0e+31,3.0e+32,5.1e+31,1.1e+31,'NaN',5.0e+30,1.9e+32,'NaN'],'B_sI':['NaN', 1.62e+11,'NaN',2.06e+15, 1.27e+14,'NaN','NaN', 5.80e+13,2.60e+14,'NaN'],'B_Lc':[7.14e+00,3.44e+01,3.30e+00,4.48e+01,6.98e+00,4.02e+00,4.67e+01,1.60e+00,4.57e+01,1.32e+01]}\n",
        "c=pd.DataFrame(R)\n",
        "c.to_csv('magnetor_pulsar.csv')\n",
        "c"
      ],
      "execution_count": 38,
      "outputs": [
        {
          "output_type": "execute_result",
          "data": {
            "text/html": [
              "<div>\n",
              "<style scoped>\n",
              "    .dataframe tbody tr th:only-of-type {\n",
              "        vertical-align: middle;\n",
              "    }\n",
              "\n",
              "    .dataframe tbody tr th {\n",
              "        vertical-align: top;\n",
              "    }\n",
              "\n",
              "    .dataframe thead th {\n",
              "        text-align: right;\n",
              "    }\n",
              "</style>\n",
              "<table border=\"1\" class=\"dataframe\">\n",
              "  <thead>\n",
              "    <tr style=\"text-align: right;\">\n",
              "      <th></th>\n",
              "      <th>Name of pulsar</th>\n",
              "      <th>po</th>\n",
              "      <th>pdot</th>\n",
              "      <th>D in Kpc</th>\n",
              "      <th>R_L</th>\n",
              "      <th>Age</th>\n",
              "      <th>B_s</th>\n",
              "      <th>Edot</th>\n",
              "      <th>Edot2</th>\n",
              "      <th>B_sI</th>\n",
              "      <th>B_Lc</th>\n",
              "    </tr>\n",
              "  </thead>\n",
              "  <tbody>\n",
              "    <tr>\n",
              "      <th>0</th>\n",
              "      <td>J0100-7211</td>\n",
              "      <td>8.020392</td>\n",
              "      <td>1.880000e-11</td>\n",
              "      <td>59.7</td>\n",
              "      <td>0.00</td>\n",
              "      <td>6760.0</td>\n",
              "      <td>3.930000e+14</td>\n",
              "      <td>1.400000e+33</td>\n",
              "      <td>4e+29</td>\n",
              "      <td>NaN</td>\n",
              "      <td>7.14</td>\n",
              "    </tr>\n",
              "    <tr>\n",
              "      <th>1</th>\n",
              "      <td>J0525-6607</td>\n",
              "      <td>0.354438</td>\n",
              "      <td>7.360520e-17</td>\n",
              "      <td>1.841</td>\n",
              "      <td>66.09</td>\n",
              "      <td>76300000.0</td>\n",
              "      <td>1.630000e+11</td>\n",
              "      <td>6.500000e+31</td>\n",
              "      <td>1.9e+31</td>\n",
              "      <td>1.62e+11</td>\n",
              "      <td>34.40</td>\n",
              "    </tr>\n",
              "    <tr>\n",
              "      <th>2</th>\n",
              "      <td>J1708-4008</td>\n",
              "      <td>11.006262</td>\n",
              "      <td>1.960000e-11</td>\n",
              "      <td>3.8</td>\n",
              "      <td>0.00</td>\n",
              "      <td>8900.0</td>\n",
              "      <td>4.700000e+14</td>\n",
              "      <td>5.800000e+32</td>\n",
              "      <td>4e+31</td>\n",
              "      <td>NaN</td>\n",
              "      <td>3.30</td>\n",
              "    </tr>\n",
              "    <tr>\n",
              "      <th>3</th>\n",
              "      <td>J1808-2024</td>\n",
              "      <td>7.555920</td>\n",
              "      <td>5.490000e-10</td>\n",
              "      <td>13</td>\n",
              "      <td>0.00</td>\n",
              "      <td>218.0</td>\n",
              "      <td>2.060000e+15</td>\n",
              "      <td>5.000000e+34</td>\n",
              "      <td>3e+32</td>\n",
              "      <td>2.06e+15</td>\n",
              "      <td>44.80</td>\n",
              "    </tr>\n",
              "    <tr>\n",
              "      <th>4</th>\n",
              "      <td>J1809-1943</td>\n",
              "      <td>5.540743</td>\n",
              "      <td>2.828100e-12</td>\n",
              "      <td>3.6</td>\n",
              "      <td>0.00</td>\n",
              "      <td>31000.0</td>\n",
              "      <td>1.270000e+14</td>\n",
              "      <td>6.600000e+32</td>\n",
              "      <td>5.1e+31</td>\n",
              "      <td>1.27e+14</td>\n",
              "      <td>6.98</td>\n",
              "    </tr>\n",
              "    <tr>\n",
              "      <th>5</th>\n",
              "      <td>J1841-0456</td>\n",
              "      <td>11.788978</td>\n",
              "      <td>4.092000e-11</td>\n",
              "      <td>9.6</td>\n",
              "      <td>0.00</td>\n",
              "      <td>4570.0</td>\n",
              "      <td>7.030000e+14</td>\n",
              "      <td>9.900000e+32</td>\n",
              "      <td>1.1e+31</td>\n",
              "      <td>NaN</td>\n",
              "      <td>4.02</td>\n",
              "    </tr>\n",
              "    <tr>\n",
              "      <th>6</th>\n",
              "      <td>J1907+0919</td>\n",
              "      <td>5.198346</td>\n",
              "      <td>9.200000e-11</td>\n",
              "      <td>NaN</td>\n",
              "      <td>0.00</td>\n",
              "      <td>895.0</td>\n",
              "      <td>7.000000e+14</td>\n",
              "      <td>2.600000e+34</td>\n",
              "      <td>NaN</td>\n",
              "      <td>NaN</td>\n",
              "      <td>46.70</td>\n",
              "    </tr>\n",
              "    <tr>\n",
              "      <th>7</th>\n",
              "      <td>J2301+5852</td>\n",
              "      <td>6.979071</td>\n",
              "      <td>4.712300e-13</td>\n",
              "      <td>3.3</td>\n",
              "      <td>0.00</td>\n",
              "      <td>235000.0</td>\n",
              "      <td>5.800000e+13</td>\n",
              "      <td>5.500000e+31</td>\n",
              "      <td>5e+30</td>\n",
              "      <td>5.8e+13</td>\n",
              "      <td>1.60</td>\n",
              "    </tr>\n",
              "    <tr>\n",
              "      <th>8</th>\n",
              "      <td>J1745-2900</td>\n",
              "      <td>3.763733</td>\n",
              "      <td>1.756000e-11</td>\n",
              "      <td>8.3</td>\n",
              "      <td>0.00</td>\n",
              "      <td>3400.0</td>\n",
              "      <td>2.600000e+14</td>\n",
              "      <td>1.300000e+34</td>\n",
              "      <td>1.9e+32</td>\n",
              "      <td>2.6e+14</td>\n",
              "      <td>45.70</td>\n",
              "    </tr>\n",
              "    <tr>\n",
              "      <th>9</th>\n",
              "      <td>J0525-6607</td>\n",
              "      <td>8.047000</td>\n",
              "      <td>6.500000e-11</td>\n",
              "      <td>NaN</td>\n",
              "      <td>0.00</td>\n",
              "      <td>1960.0</td>\n",
              "      <td>7.320000e+14</td>\n",
              "      <td>4.900000e+33</td>\n",
              "      <td>NaN</td>\n",
              "      <td>NaN</td>\n",
              "      <td>13.20</td>\n",
              "    </tr>\n",
              "  </tbody>\n",
              "</table>\n",
              "</div>"
            ],
            "text/plain": [
              "  Name of pulsar         po          pdot  ...    Edot2      B_sI   B_Lc\n",
              "0     J0100-7211   8.020392  1.880000e-11  ...    4e+29       NaN   7.14\n",
              "1     J0525-6607   0.354438  7.360520e-17  ...  1.9e+31  1.62e+11  34.40\n",
              "2     J1708-4008  11.006262  1.960000e-11  ...    4e+31       NaN   3.30\n",
              "3     J1808-2024   7.555920  5.490000e-10  ...    3e+32  2.06e+15  44.80\n",
              "4     J1809-1943   5.540743  2.828100e-12  ...  5.1e+31  1.27e+14   6.98\n",
              "5     J1841-0456  11.788978  4.092000e-11  ...  1.1e+31       NaN   4.02\n",
              "6     J1907+0919   5.198346  9.200000e-11  ...      NaN       NaN  46.70\n",
              "7     J2301+5852   6.979071  4.712300e-13  ...    5e+30   5.8e+13   1.60\n",
              "8     J1745-2900   3.763733  1.756000e-11  ...  1.9e+32   2.6e+14  45.70\n",
              "9     J0525-6607   8.047000  6.500000e-11  ...      NaN       NaN  13.20\n",
              "\n",
              "[10 rows x 11 columns]"
            ]
          },
          "metadata": {
            "tags": []
          },
          "execution_count": 38
        }
      ]
    },
    {
      "cell_type": "code",
      "metadata": {
        "colab": {
          "base_uri": "https://localhost:8080/",
          "height": 935
        },
        "id": "YW_PClj4SKyy",
        "outputId": "6f860b3e-6c60-4b2f-f827-ceee81c750db"
      },
      "source": [
        "o=pd.concat([l,p,c],ignore_index=True)\n",
        "o.to_csv('Combined_data.csv')\n",
        "o"
      ],
      "execution_count": 39,
      "outputs": [
        {
          "output_type": "execute_result",
          "data": {
            "text/html": [
              "<div>\n",
              "<style scoped>\n",
              "    .dataframe tbody tr th:only-of-type {\n",
              "        vertical-align: middle;\n",
              "    }\n",
              "\n",
              "    .dataframe tbody tr th {\n",
              "        vertical-align: top;\n",
              "    }\n",
              "\n",
              "    .dataframe thead th {\n",
              "        text-align: right;\n",
              "    }\n",
              "</style>\n",
              "<table border=\"1\" class=\"dataframe\">\n",
              "  <thead>\n",
              "    <tr style=\"text-align: right;\">\n",
              "      <th></th>\n",
              "      <th>Name of pulsar</th>\n",
              "      <th>po</th>\n",
              "      <th>pdot</th>\n",
              "      <th>D in Kpc</th>\n",
              "      <th>Age</th>\n",
              "      <th>R_L</th>\n",
              "      <th>B_s</th>\n",
              "      <th>Edot</th>\n",
              "      <th>Edot2</th>\n",
              "      <th>B_sI</th>\n",
              "      <th>B_Lc</th>\n",
              "    </tr>\n",
              "  </thead>\n",
              "  <tbody>\n",
              "    <tr>\n",
              "      <th>0</th>\n",
              "      <td>J0205+6449</td>\n",
              "      <td>0.065716</td>\n",
              "      <td>1.937543e-13</td>\n",
              "      <td>3.2</td>\n",
              "      <td>5.370000e+03</td>\n",
              "      <td>NaN</td>\n",
              "      <td>3.610000e+12</td>\n",
              "      <td>2.700000e+37</td>\n",
              "      <td>2.6e+36</td>\n",
              "      <td>3.61e+12</td>\n",
              "      <td>119000.00</td>\n",
              "    </tr>\n",
              "    <tr>\n",
              "      <th>1</th>\n",
              "      <td>J0218+4232</td>\n",
              "      <td>0.002323</td>\n",
              "      <td>7.739550e-20</td>\n",
              "      <td>3.15</td>\n",
              "      <td>4.760000e+08</td>\n",
              "      <td>466.36</td>\n",
              "      <td>4.290000e+08</td>\n",
              "      <td>2.400000e+35</td>\n",
              "      <td>2.5e+34</td>\n",
              "      <td>4.27e+08</td>\n",
              "      <td>321000.00</td>\n",
              "    </tr>\n",
              "    <tr>\n",
              "      <th>2</th>\n",
              "      <td>J0437-4715</td>\n",
              "      <td>0.005757</td>\n",
              "      <td>5.729215e-20</td>\n",
              "      <td>0.157</td>\n",
              "      <td>1.590000e+09</td>\n",
              "      <td>13.52</td>\n",
              "      <td>4.290000e+08</td>\n",
              "      <td>1.200000e+34</td>\n",
              "      <td>4.8e+35</td>\n",
              "      <td>2.85e+08</td>\n",
              "      <td>28500.00</td>\n",
              "    </tr>\n",
              "    <tr>\n",
              "      <th>3</th>\n",
              "      <td>J0534+2200</td>\n",
              "      <td>0.033392</td>\n",
              "      <td>4.209720e-13</td>\n",
              "      <td>2</td>\n",
              "      <td>1.260000e+03</td>\n",
              "      <td>2200</td>\n",
              "      <td>3.790000e+12</td>\n",
              "      <td>4.500000e+38</td>\n",
              "      <td>1.1e+38</td>\n",
              "      <td>3.79e+12</td>\n",
              "      <td>955000.00</td>\n",
              "    </tr>\n",
              "    <tr>\n",
              "      <th>4</th>\n",
              "      <td>J1105-6107</td>\n",
              "      <td>0.063202</td>\n",
              "      <td>1.584462e-14</td>\n",
              "      <td>2.36</td>\n",
              "      <td>6.320000e+04</td>\n",
              "      <td>NaN</td>\n",
              "      <td>1.010000e+12</td>\n",
              "      <td>2.500000e+36</td>\n",
              "      <td>4.4e+35</td>\n",
              "      <td>NaN</td>\n",
              "      <td>37600.00</td>\n",
              "    </tr>\n",
              "    <tr>\n",
              "      <th>5</th>\n",
              "      <td>J1124-5916</td>\n",
              "      <td>0.135477</td>\n",
              "      <td>7.525660e-13</td>\n",
              "      <td>5</td>\n",
              "      <td>2.850000e+03</td>\n",
              "      <td>NaN</td>\n",
              "      <td>1.020000e+13</td>\n",
              "      <td>1.200000e+37</td>\n",
              "      <td>4.8e+35</td>\n",
              "      <td>NaN</td>\n",
              "      <td>38500.00</td>\n",
              "    </tr>\n",
              "    <tr>\n",
              "      <th>6</th>\n",
              "      <td>J1617-5055</td>\n",
              "      <td>0.069357</td>\n",
              "      <td>1.351000e-13</td>\n",
              "      <td>4.743</td>\n",
              "      <td>8.130000e+03</td>\n",
              "      <td>NaN</td>\n",
              "      <td>3.100000e+12</td>\n",
              "      <td>1.600000e+37</td>\n",
              "      <td>7.1e+35</td>\n",
              "      <td>NaN</td>\n",
              "      <td>87000.00</td>\n",
              "    </tr>\n",
              "    <tr>\n",
              "      <th>7</th>\n",
              "      <td>J1930+1852</td>\n",
              "      <td>0.136855</td>\n",
              "      <td>7.505700e-13</td>\n",
              "      <td>7</td>\n",
              "      <td>2.890000e+03</td>\n",
              "      <td>NaN</td>\n",
              "      <td>1.030000e+13</td>\n",
              "      <td>1.200000e+37</td>\n",
              "      <td>2.4e+35</td>\n",
              "      <td>NaN</td>\n",
              "      <td>37500.00</td>\n",
              "    </tr>\n",
              "    <tr>\n",
              "      <th>8</th>\n",
              "      <td>J2124-3358</td>\n",
              "      <td>0.004931</td>\n",
              "      <td>2.057050e-20</td>\n",
              "      <td>0.41</td>\n",
              "      <td>3.800000e+09</td>\n",
              "      <td>2.86</td>\n",
              "      <td>3.220000e+08</td>\n",
              "      <td>6.800000e+33</td>\n",
              "      <td>2.4e+35</td>\n",
              "      <td>1.92e+08</td>\n",
              "      <td>25200.00</td>\n",
              "    </tr>\n",
              "    <tr>\n",
              "      <th>9</th>\n",
              "      <td>J2229+6114</td>\n",
              "      <td>0.051624</td>\n",
              "      <td>7.827000e-14</td>\n",
              "      <td>3</td>\n",
              "      <td>1.050000e+04</td>\n",
              "      <td>13.5</td>\n",
              "      <td>2.030000e+12</td>\n",
              "      <td>2.200000e+37</td>\n",
              "      <td>2.5e+36</td>\n",
              "      <td>NaN</td>\n",
              "      <td>139000.00</td>\n",
              "    </tr>\n",
              "    <tr>\n",
              "      <th>10</th>\n",
              "      <td>J0537-6910</td>\n",
              "      <td>0.016122</td>\n",
              "      <td>5.178434e-14</td>\n",
              "      <td>49.7</td>\n",
              "      <td>4.930000e+03</td>\n",
              "      <td>0</td>\n",
              "      <td>9.250000e+11</td>\n",
              "      <td>4.900000e+38</td>\n",
              "      <td>2e+35</td>\n",
              "      <td>NaN</td>\n",
              "      <td>2070000.00</td>\n",
              "    </tr>\n",
              "    <tr>\n",
              "      <th>11</th>\n",
              "      <td>J0633+1746</td>\n",
              "      <td>0.237099</td>\n",
              "      <td>1.097087e-14</td>\n",
              "      <td>0.19</td>\n",
              "      <td>3.420000e+05</td>\n",
              "      <td>0</td>\n",
              "      <td>1.630000e+12</td>\n",
              "      <td>3.200000e+34</td>\n",
              "      <td>9e+35</td>\n",
              "      <td>1.63e+12</td>\n",
              "      <td>1150.00</td>\n",
              "    </tr>\n",
              "    <tr>\n",
              "      <th>12</th>\n",
              "      <td>J0543+2329</td>\n",
              "      <td>0.245984</td>\n",
              "      <td>1.541956e-14</td>\n",
              "      <td>1.565</td>\n",
              "      <td>2.530000e+05</td>\n",
              "      <td>71.03</td>\n",
              "      <td>1.970000e+12</td>\n",
              "      <td>4.100000e+34</td>\n",
              "      <td>1.7e+34</td>\n",
              "      <td>1.97e+12</td>\n",
              "      <td>1240.00</td>\n",
              "    </tr>\n",
              "    <tr>\n",
              "      <th>13</th>\n",
              "      <td>J1811-1925</td>\n",
              "      <td>0.064667</td>\n",
              "      <td>4.400000e-14</td>\n",
              "      <td>5</td>\n",
              "      <td>2.330000e+04</td>\n",
              "      <td>0</td>\n",
              "      <td>1.710000e+12</td>\n",
              "      <td>6.400000e+36</td>\n",
              "      <td>2.6e+35</td>\n",
              "      <td>NaN</td>\n",
              "      <td>59200.00</td>\n",
              "    </tr>\n",
              "    <tr>\n",
              "      <th>14</th>\n",
              "      <td>J1846-0258</td>\n",
              "      <td>0.326571</td>\n",
              "      <td>7.107450e-12</td>\n",
              "      <td>5.8</td>\n",
              "      <td>7.280000e+02</td>\n",
              "      <td>0</td>\n",
              "      <td>4.880000e+13</td>\n",
              "      <td>8.100000e+36</td>\n",
              "      <td>2.4e+35</td>\n",
              "      <td>NaN</td>\n",
              "      <td>13100.00</td>\n",
              "    </tr>\n",
              "    <tr>\n",
              "      <th>15</th>\n",
              "      <td>J0628+0909</td>\n",
              "      <td>3.763733</td>\n",
              "      <td>5.479000e-16</td>\n",
              "      <td>1.771</td>\n",
              "      <td>3.590000e+07</td>\n",
              "      <td>0</td>\n",
              "      <td>8.350000e+11</td>\n",
              "      <td>1.100000e+31</td>\n",
              "      <td>3.6e+30</td>\n",
              "      <td>NaN</td>\n",
              "      <td>4.09</td>\n",
              "    </tr>\n",
              "    <tr>\n",
              "      <th>16</th>\n",
              "      <td>J0633+1746</td>\n",
              "      <td>0.237099</td>\n",
              "      <td>1.097087e-14</td>\n",
              "      <td>0.19</td>\n",
              "      <td>3.420000e+05</td>\n",
              "      <td>0</td>\n",
              "      <td>1.630000e+12</td>\n",
              "      <td>3.200000e+34</td>\n",
              "      <td>9e+35</td>\n",
              "      <td>1.63e+12</td>\n",
              "      <td>1150.00</td>\n",
              "    </tr>\n",
              "    <tr>\n",
              "      <th>17</th>\n",
              "      <td>J0636-4549</td>\n",
              "      <td>1.984597</td>\n",
              "      <td>3.172200e-15</td>\n",
              "      <td>0.383</td>\n",
              "      <td>9.910000e+06</td>\n",
              "      <td>0</td>\n",
              "      <td>2.540000e+12</td>\n",
              "      <td>1.600000e+31</td>\n",
              "      <td>1.1e+32</td>\n",
              "      <td>NaN</td>\n",
              "      <td>3.05</td>\n",
              "    </tr>\n",
              "    <tr>\n",
              "      <th>18</th>\n",
              "      <td>J1811-4930</td>\n",
              "      <td>1.432704</td>\n",
              "      <td>2.254000e-15</td>\n",
              "      <td>1.447</td>\n",
              "      <td>1.010000e+07</td>\n",
              "      <td>0</td>\n",
              "      <td>1.820000e+12</td>\n",
              "      <td>3.000000e+31</td>\n",
              "      <td>1.4e+31</td>\n",
              "      <td>NaN</td>\n",
              "      <td>5.80</td>\n",
              "    </tr>\n",
              "    <tr>\n",
              "      <th>19</th>\n",
              "      <td>J1812-1718</td>\n",
              "      <td>1.205374</td>\n",
              "      <td>1.907700e-14</td>\n",
              "      <td>3.678</td>\n",
              "      <td>1.000000e+06</td>\n",
              "      <td>0</td>\n",
              "      <td>4.850000e+12</td>\n",
              "      <td>4.300000e+32</td>\n",
              "      <td>3.2e+31</td>\n",
              "      <td>NaN</td>\n",
              "      <td>26.00</td>\n",
              "    </tr>\n",
              "    <tr>\n",
              "      <th>20</th>\n",
              "      <td>J0100-7211</td>\n",
              "      <td>8.020392</td>\n",
              "      <td>1.880000e-11</td>\n",
              "      <td>59.7</td>\n",
              "      <td>6.760000e+03</td>\n",
              "      <td>0</td>\n",
              "      <td>3.930000e+14</td>\n",
              "      <td>1.400000e+33</td>\n",
              "      <td>4e+29</td>\n",
              "      <td>NaN</td>\n",
              "      <td>7.14</td>\n",
              "    </tr>\n",
              "    <tr>\n",
              "      <th>21</th>\n",
              "      <td>J0525-6607</td>\n",
              "      <td>0.354438</td>\n",
              "      <td>7.360520e-17</td>\n",
              "      <td>1.841</td>\n",
              "      <td>7.630000e+07</td>\n",
              "      <td>66.09</td>\n",
              "      <td>1.630000e+11</td>\n",
              "      <td>6.500000e+31</td>\n",
              "      <td>1.9e+31</td>\n",
              "      <td>1.62e+11</td>\n",
              "      <td>34.40</td>\n",
              "    </tr>\n",
              "    <tr>\n",
              "      <th>22</th>\n",
              "      <td>J1708-4008</td>\n",
              "      <td>11.006262</td>\n",
              "      <td>1.960000e-11</td>\n",
              "      <td>3.8</td>\n",
              "      <td>8.900000e+03</td>\n",
              "      <td>0</td>\n",
              "      <td>4.700000e+14</td>\n",
              "      <td>5.800000e+32</td>\n",
              "      <td>4e+31</td>\n",
              "      <td>NaN</td>\n",
              "      <td>3.30</td>\n",
              "    </tr>\n",
              "    <tr>\n",
              "      <th>23</th>\n",
              "      <td>J1808-2024</td>\n",
              "      <td>7.555920</td>\n",
              "      <td>5.490000e-10</td>\n",
              "      <td>13</td>\n",
              "      <td>2.180000e+02</td>\n",
              "      <td>0</td>\n",
              "      <td>2.060000e+15</td>\n",
              "      <td>5.000000e+34</td>\n",
              "      <td>3e+32</td>\n",
              "      <td>2.06e+15</td>\n",
              "      <td>44.80</td>\n",
              "    </tr>\n",
              "    <tr>\n",
              "      <th>24</th>\n",
              "      <td>J1809-1943</td>\n",
              "      <td>5.540743</td>\n",
              "      <td>2.828100e-12</td>\n",
              "      <td>3.6</td>\n",
              "      <td>3.100000e+04</td>\n",
              "      <td>0</td>\n",
              "      <td>1.270000e+14</td>\n",
              "      <td>6.600000e+32</td>\n",
              "      <td>5.1e+31</td>\n",
              "      <td>1.27e+14</td>\n",
              "      <td>6.98</td>\n",
              "    </tr>\n",
              "    <tr>\n",
              "      <th>25</th>\n",
              "      <td>J1841-0456</td>\n",
              "      <td>11.788978</td>\n",
              "      <td>4.092000e-11</td>\n",
              "      <td>9.6</td>\n",
              "      <td>4.570000e+03</td>\n",
              "      <td>0</td>\n",
              "      <td>7.030000e+14</td>\n",
              "      <td>9.900000e+32</td>\n",
              "      <td>1.1e+31</td>\n",
              "      <td>NaN</td>\n",
              "      <td>4.02</td>\n",
              "    </tr>\n",
              "    <tr>\n",
              "      <th>26</th>\n",
              "      <td>J1907+0919</td>\n",
              "      <td>5.198346</td>\n",
              "      <td>9.200000e-11</td>\n",
              "      <td>NaN</td>\n",
              "      <td>8.950000e+02</td>\n",
              "      <td>0</td>\n",
              "      <td>7.000000e+14</td>\n",
              "      <td>2.600000e+34</td>\n",
              "      <td>NaN</td>\n",
              "      <td>NaN</td>\n",
              "      <td>46.70</td>\n",
              "    </tr>\n",
              "    <tr>\n",
              "      <th>27</th>\n",
              "      <td>J2301+5852</td>\n",
              "      <td>6.979071</td>\n",
              "      <td>4.712300e-13</td>\n",
              "      <td>3.3</td>\n",
              "      <td>2.350000e+05</td>\n",
              "      <td>0</td>\n",
              "      <td>5.800000e+13</td>\n",
              "      <td>5.500000e+31</td>\n",
              "      <td>5e+30</td>\n",
              "      <td>5.8e+13</td>\n",
              "      <td>1.60</td>\n",
              "    </tr>\n",
              "    <tr>\n",
              "      <th>28</th>\n",
              "      <td>J1745-2900</td>\n",
              "      <td>3.763733</td>\n",
              "      <td>1.756000e-11</td>\n",
              "      <td>8.3</td>\n",
              "      <td>3.400000e+03</td>\n",
              "      <td>0</td>\n",
              "      <td>2.600000e+14</td>\n",
              "      <td>1.300000e+34</td>\n",
              "      <td>1.9e+32</td>\n",
              "      <td>2.6e+14</td>\n",
              "      <td>45.70</td>\n",
              "    </tr>\n",
              "    <tr>\n",
              "      <th>29</th>\n",
              "      <td>J0525-6607</td>\n",
              "      <td>8.047000</td>\n",
              "      <td>6.500000e-11</td>\n",
              "      <td>NaN</td>\n",
              "      <td>1.960000e+03</td>\n",
              "      <td>0</td>\n",
              "      <td>7.320000e+14</td>\n",
              "      <td>4.900000e+33</td>\n",
              "      <td>NaN</td>\n",
              "      <td>NaN</td>\n",
              "      <td>13.20</td>\n",
              "    </tr>\n",
              "  </tbody>\n",
              "</table>\n",
              "</div>"
            ],
            "text/plain": [
              "   Name of pulsar         po          pdot  ...    Edot2      B_sI        B_Lc\n",
              "0      J0205+6449   0.065716  1.937543e-13  ...  2.6e+36  3.61e+12   119000.00\n",
              "1      J0218+4232   0.002323  7.739550e-20  ...  2.5e+34  4.27e+08   321000.00\n",
              "2      J0437-4715   0.005757  5.729215e-20  ...  4.8e+35  2.85e+08    28500.00\n",
              "3      J0534+2200   0.033392  4.209720e-13  ...  1.1e+38  3.79e+12   955000.00\n",
              "4      J1105-6107   0.063202  1.584462e-14  ...  4.4e+35       NaN    37600.00\n",
              "5      J1124-5916   0.135477  7.525660e-13  ...  4.8e+35       NaN    38500.00\n",
              "6      J1617-5055   0.069357  1.351000e-13  ...  7.1e+35       NaN    87000.00\n",
              "7      J1930+1852   0.136855  7.505700e-13  ...  2.4e+35       NaN    37500.00\n",
              "8      J2124-3358   0.004931  2.057050e-20  ...  2.4e+35  1.92e+08    25200.00\n",
              "9      J2229+6114   0.051624  7.827000e-14  ...  2.5e+36       NaN   139000.00\n",
              "10     J0537-6910   0.016122  5.178434e-14  ...    2e+35       NaN  2070000.00\n",
              "11     J0633+1746   0.237099  1.097087e-14  ...    9e+35  1.63e+12     1150.00\n",
              "12     J0543+2329   0.245984  1.541956e-14  ...  1.7e+34  1.97e+12     1240.00\n",
              "13     J1811-1925   0.064667  4.400000e-14  ...  2.6e+35       NaN    59200.00\n",
              "14     J1846-0258   0.326571  7.107450e-12  ...  2.4e+35       NaN    13100.00\n",
              "15     J0628+0909   3.763733  5.479000e-16  ...  3.6e+30       NaN        4.09\n",
              "16     J0633+1746   0.237099  1.097087e-14  ...    9e+35  1.63e+12     1150.00\n",
              "17     J0636-4549   1.984597  3.172200e-15  ...  1.1e+32       NaN        3.05\n",
              "18     J1811-4930   1.432704  2.254000e-15  ...  1.4e+31       NaN        5.80\n",
              "19     J1812-1718   1.205374  1.907700e-14  ...  3.2e+31       NaN       26.00\n",
              "20     J0100-7211   8.020392  1.880000e-11  ...    4e+29       NaN        7.14\n",
              "21     J0525-6607   0.354438  7.360520e-17  ...  1.9e+31  1.62e+11       34.40\n",
              "22     J1708-4008  11.006262  1.960000e-11  ...    4e+31       NaN        3.30\n",
              "23     J1808-2024   7.555920  5.490000e-10  ...    3e+32  2.06e+15       44.80\n",
              "24     J1809-1943   5.540743  2.828100e-12  ...  5.1e+31  1.27e+14        6.98\n",
              "25     J1841-0456  11.788978  4.092000e-11  ...  1.1e+31       NaN        4.02\n",
              "26     J1907+0919   5.198346  9.200000e-11  ...      NaN       NaN       46.70\n",
              "27     J2301+5852   6.979071  4.712300e-13  ...    5e+30   5.8e+13        1.60\n",
              "28     J1745-2900   3.763733  1.756000e-11  ...  1.9e+32   2.6e+14       45.70\n",
              "29     J0525-6607   8.047000  6.500000e-11  ...      NaN       NaN       13.20\n",
              "\n",
              "[30 rows x 11 columns]"
            ]
          },
          "metadata": {
            "tags": []
          },
          "execution_count": 39
        }
      ]
    },
    {
      "cell_type": "code",
      "metadata": {
        "colab": {
          "base_uri": "https://localhost:8080/",
          "height": 313
        },
        "id": "rEHDW9KLSNeZ",
        "outputId": "ea8986cc-03b2-4815-cef1-6f1a6f66c7a9"
      },
      "source": [
        "import pandas as pd\n",
        "import numpy as np\n",
        "a = o['po']\n",
        "b = o['pdot']\n",
        "d = o['Edot']\n",
        "e = b*a**(-3)\n",
        "f = np.sort(e)\n",
        "h = np.sort(d)\n",
        "import matplotlib.pyplot as plt\n",
        "plt.xlabel('p(dot)*p^(-3)')\n",
        "plt.ylabel('E(dot)')\n",
        "plt.scatter(f,h)"
      ],
      "execution_count": 40,
      "outputs": [
        {
          "output_type": "execute_result",
          "data": {
            "text/plain": [
              "<matplotlib.collections.PathCollection at 0x7fb442c0d310>"
            ]
          },
          "metadata": {
            "tags": []
          },
          "execution_count": 40
        },
        {
          "output_type": "display_data",
          "data": {
            "image/png": "[encoded data removed]",
            "text/plain": [
              "<Figure size 432x288 with 1 Axes>"
            ]
          },
          "metadata": {
            "tags": []
          }
        }
      ]
    },
    {
      "cell_type": "code",
      "metadata": {
        "colab": {
          "base_uri": "https://localhost:8080/",
          "height": 313
        },
        "id": "uoD0Ea63SNq1",
        "outputId": "5515b012-a48d-45a1-d2ff-f06e827e39c5"
      },
      "source": [
        "#age vs po\n",
        "import pandas as pd\n",
        "import numpy as np\n",
        "g = o['po']\n",
        "e = o['Age']\n",
        "i = np.sort(g)\n",
        "j = np.sort(e)\n",
        "import matplotlib.pyplot as plt\n",
        "plt.xlabel('Age')\n",
        "plt.ylabel('po')\n",
        "plt.scatter(i,j)"
      ],
      "execution_count": 41,
      "outputs": [
        {
          "output_type": "execute_result",
          "data": {
            "text/plain": [
              "<matplotlib.collections.PathCollection at 0x7fb442be9e90>"
            ]
          },
          "metadata": {
            "tags": []
          },
          "execution_count": 41
        },
        {
          "output_type": "display_data",
          "data": {
            "image/png": "[encoded data removed]",
            "text/plain": [
              "<Figure size 432x288 with 1 Axes>"
            ]
          },
          "metadata": {
            "tags": []
          }
        }
      ]
    },
    {
      "cell_type": "code",
      "metadata": {
        "colab": {
          "base_uri": "https://localhost:8080/",
          "height": 313
        },
        "id": "lxWSVPOfSN1x",
        "outputId": "a85f46a2-c4cf-4936-d018-5b6bebd70947"
      },
      "source": [
        "import pandas as pd\n",
        "import numpy as np\n",
        "k = o['B_s']\n",
        "l = o['po']\n",
        "m = o['pdot']\n",
        "n = l*m\n",
        "q = np.sort(k)\n",
        "p = np.sort(n)\n",
        "import matplotlib.pyplot as plt\n",
        "plt.xlabel('B_s')\n",
        "plt.ylabel('l*m')\n",
        "plt.scatter(q,p)"
      ],
      "execution_count": 42,
      "outputs": [
        {
          "output_type": "execute_result",
          "data": {
            "text/plain": [
              "<matplotlib.collections.PathCollection at 0x7fb442b59d10>"
            ]
          },
          "metadata": {
            "tags": []
          },
          "execution_count": 42
        },
        {
          "output_type": "display_data",
          "data": {
            "image/png": "[encoded data removed]",
            "text/plain": [
              "<Figure size 432x288 with 1 Axes>"
            ]
          },
          "metadata": {
            "tags": []
          }
        }
      ]
    },
    {
      "cell_type": "code",
      "metadata": {
        "colab": {
          "base_uri": "https://localhost:8080/"
        },
        "id": "4MQPAmGVShRz",
        "outputId": "43e94729-9df8-4b3f-eb60-4ad1731b9883"
      },
      "source": [
        "#calculating and verifying inertia values\n",
        "import pandas as pd\n",
        "import numpy as np\n",
        "import matplotlib.pyplot as plt\n",
        "p1 = 0.0628\n",
        "pdo = 8.560517117*10**(-15)\n",
        "R = 10**3\n",
        "I = 10**38\n",
        "M = 2.8*10**30\n",
        "c = 3*10**8\n",
        "G = 6.67408*10**(-11)\n",
        "pi = 3.14159265359\n",
        "eo = (3*I*c**3*p1*pdo)/(4*pi**2*G*M**2*R**2)\n",
        "#u = math.log(r,10)\n",
        "#v = math.log(s,10)\n",
        "#z = ((0.035477*10**8)*r*s)\n",
        "#w = math.log(z,10)\n",
        "#print(w)\n",
        "#print(u)\n",
        "#print(eo)\n",
        "x = math.log(eo,10)\n",
        "print(x)\n",
        "#e1 = 0.04446555*10**(-9)\n",
        "#loe1 = math.log(e1,10)\n",
        "#print(loe1)"
      ],
      "execution_count": 43,
      "outputs": [
        {
          "output_type": "stream",
          "text": [
            "-9.676122544890042\n"
          ],
          "name": "stdout"
        }
      ]
    },
    {
      "cell_type": "code",
      "metadata": {
        "colab": {
          "base_uri": "https://localhost:8080/"
        },
        "id": "mwVxKuMpmBuM",
        "outputId": "46a85339-1f08-4274-c329-912fb77df3aa"
      },
      "source": [
        "#inertia values\n",
        "import pandas as pd\n",
        "import numpy as np\n",
        "k = o['Edot']\n",
        "l = o['po']\n",
        "m = o['pdot']\n",
        "MI = (k*l**3)/(4*((3.14)**2)*m)\n",
        "print(MI)"
      ],
      "execution_count": 44,
      "outputs": [
        {
          "output_type": "stream",
          "text": [
            "0     1.002779e+45\n",
            "1     9.857678e+44\n",
            "2     1.013579e+45\n",
            "3     1.009214e+45\n",
            "4     1.010029e+45\n",
            "5     1.005339e+45\n",
            "6     1.001875e+45\n",
            "7     1.039090e+45\n",
            "8     1.005033e+45\n",
            "9     9.805105e+44\n",
            "10    1.005433e+45\n",
            "11    9.857828e+44\n",
            "12    1.003486e+45\n",
            "13    9.973697e+44\n",
            "14    1.006435e+45\n",
            "15    2.714117e+46\n",
            "16    9.857828e+44\n",
            "17    9.996716e+44\n",
            "18    9.924706e+44\n",
            "19    1.000933e+45\n",
            "20    9.741766e+44\n",
            "21    9.970224e+44\n",
            "22    1.000397e+45\n",
            "23    9.961860e+44\n",
            "24    1.006547e+45\n",
            "25    1.005099e+45\n",
            "26    1.006611e+45\n",
            "27    1.006012e+45\n",
            "28    1.000820e+45\n",
            "29    9.960140e+44\n",
            "dtype: float64\n"
          ],
          "name": "stdout"
        }
      ]
    },
    {
      "cell_type": "code",
      "metadata": {
        "colab": {
          "base_uri": "https://localhost:8080/",
          "height": 313
        },
        "id": "M_mcuM1EelcS",
        "outputId": "f5ba7f9f-66f5-44f2-dfce-821be12a2d51"
      },
      "source": [
        "#REGRESSION PLOT\n",
        "import seaborn as sns\n",
        "import matplotlib.pyplot as plt\n",
        "sns.set_theme(color_codes=True)\n",
        "sns.regplot(x=o['po'], y=o['pdot'])"
      ],
      "execution_count": 45,
      "outputs": [
        {
          "output_type": "execute_result",
          "data": {
            "text/plain": [
              "<matplotlib.axes._subplots.AxesSubplot at 0x7fb442b01e10>"
            ]
          },
          "metadata": {
            "tags": []
          },
          "execution_count": 45
        },
        {
          "output_type": "display_data",
          "data": {
            "image/png": "[encoded data removed]",
            "text/plain": [
              "<Figure size 432x288 with 1 Axes>"
            ]
          },
          "metadata": {
            "tags": []
          }
        }
      ]
    },
    {
      "cell_type": "code",
      "metadata": {
        "colab": {
          "base_uri": "https://localhost:8080/",
          "height": 834
        },
        "id": "qykGLsjDPuO7",
        "outputId": "bd110aeb-ecee-404a-8c6d-c5edfa4cc3a9"
      },
      "source": [
        "#CALCULATING MAGNETIC MOMENT\n",
        "import pandas as pd\n",
        "import numpy as np\n",
        "import matplotlib.pyplot as plt\n",
        "k = MI\n",
        "l = o['po']\n",
        "m = o['pdot']\n",
        "#i = np.sort(l)\n",
        "#j = np.sort(m)\n",
        "#q = np.sort(k)\n",
        "moment = ((3*l*m*k*((3*10**8)**3))**(1/2))/(8**(1/2)*np.pi)\n",
        "print(moment)\n",
        "plt.xlabel('p')\n",
        "plt.ylabel('moment')\n",
        "plt.scatter(l,moment)\n"
      ],
      "execution_count": 46,
      "outputs": [
        {
          "output_type": "stream",
          "text": [
            "0     3.61919e+27\n",
            "1     4.26409e+23\n",
            "2     5.85652e+23\n",
            "3     3.81496e+27\n",
            "4     1.01864e+27\n",
            "5     1.02544e+28\n",
            "6     3.10332e+27\n",
            "7     1.04641e+28\n",
            "8     3.23395e+23\n",
            "9     2.01602e+27\n",
            "10    9.27974e+26\n",
            "11     1.6219e+27\n",
            "12    1.97603e+27\n",
            "13    1.70625e+27\n",
            "14    4.89538e+28\n",
            "15    7.57743e+27\n",
            "16     1.6219e+27\n",
            "17    2.54093e+27\n",
            "18    1.81327e+27\n",
            "19    4.85922e+27\n",
            "20    3.88189e+29\n",
            "21    1.63352e+26\n",
            "22    4.70524e+29\n",
            "23    2.05896e+30\n",
            "24    1.27203e+29\n",
            "25    7.05274e+29\n",
            "26    7.02757e+29\n",
            "27    5.82592e+28\n",
            "28    2.60494e+29\n",
            "29    7.31062e+29\n",
            "dtype: object\n"
          ],
          "name": "stdout"
        },
        {
          "output_type": "execute_result",
          "data": {
            "text/plain": [
              "<matplotlib.collections.PathCollection at 0x7fb442aad950>"
            ]
          },
          "metadata": {
            "tags": []
          },
          "execution_count": 46
        },
        {
          "output_type": "display_data",
          "data": {
            "image/png": "[encoded data removed]",
            "text/plain": [
              "<Figure size 432x288 with 1 Axes>"
            ]
          },
          "metadata": {
            "tags": []
          }
        }
      ]
    },
    {
      "cell_type": "code",
      "metadata": {
        "colab": {
          "base_uri": "https://localhost:8080/",
          "height": 313
        },
        "id": "VHAMZhQhScQX",
        "outputId": "99401029-fb5e-483e-a139-e46c0731338d"
      },
      "source": [
        "#MOMENT VS PDOT\n",
        "import matplotlib.pyplot as plt\n",
        "plt.xlabel('pdot')\n",
        "plt.ylabel('moment')\n",
        "plt.scatter(m,moment)\n",
        "plt.plot(m,moment)"
      ],
      "execution_count": 47,
      "outputs": [
        {
          "output_type": "execute_result",
          "data": {
            "text/plain": [
              "[<matplotlib.lines.Line2D at 0x7fb442a1a7d0>]"
            ]
          },
          "metadata": {
            "tags": []
          },
          "execution_count": 47
        },
        {
          "output_type": "display_data",
          "data": {
            "image/png": "[encoded data removed]",
            "text/plain": [
              "<Figure size 432x288 with 1 Axes>"
            ]
          },
          "metadata": {
            "tags": []
          }
        }
      ]
    },
    {
      "cell_type": "code",
      "metadata": {
        "id": "a29a18bXhGSS",
        "colab": {
          "base_uri": "https://localhost:8080/",
          "height": 338
        },
        "outputId": "a8b99829-a9d8-4277-c41d-cf6c64e18fc7"
      },
      "source": [
        "#*pdoubledot and magnetic index values and respective graphs \n",
        "import pandas as pd\n",
        "import numpy as np\n",
        "import math\n",
        "pdoubledot = [4.362022e-74,1.435485e-77,1.645689e-78,3.594040e-73,3.765140e-75,3.983752e-74,2.725094e-74,3.599818e-74,8.226702e-79,2.852902e-74,2.014969e-73,1.900034e-76,2.471356e-76,1.021682e-74,6.672220e-74,3.756395e-80,1.915326e-76,7.661261e-79,1.449304e-81,1.315667e-77,2.843571e-76,5.792669e-79,1.571104e-76,9.862808e-75,9.023199e-77,2.863310e-76,3.339180e-75,9.204737e-78,1.206434e-75,9.555010e-76]\n",
        "magneticindex = [2.0,2.0,2.0,2.0,2.0,2.0,2.0,2.0,2.0,2.0,2.0,2.0,2.0,2.0,2.0,2.0,2.0,2.0,2.0,2.0,2.0,2.0,2.0,2.0,2.0,2.0,2.0,2.0,2.0,2.0]\n",
        "pdotdot=pd.DataFrame(pdoubledot)\n",
        "import matplotlib.pyplot as plt\n",
        "l = o['po']\n",
        "m = o['pdot']\n",
        "#n = o['Age']\n",
        "#i = np.sort(l)\n",
        "#j = np.sort(m)\n",
        "#k = np.sort(magneticindex)\n",
        "#q = np.sort(pdoubledot)\n",
        "print (pdoubledot)\n",
        "print(magneticindex)\n",
        "bri = 2-((i*q)/j**2)\n",
        "plt.plot(bri,magneticindex)\n"
      ],
      "execution_count": 48,
      "outputs": [
        {
          "output_type": "stream",
          "text": [
            "[4.362022e-74, 1.435485e-77, 1.645689e-78, 3.59404e-73, 3.76514e-75, 3.983752e-74, 2.725094e-74, 3.599818e-74, 8.226702e-79, 2.852902e-74, 2.014969e-73, 1.900034e-76, 2.471356e-76, 1.021682e-74, 6.67222e-74, 3.756395e-80, 1.915326e-76, 7.661261e-79, 1.449304e-81, 1.315667e-77, 2.843571e-76, 5.792669e-79, 1.571104e-76, 9.862808e-75, 9.023199e-77, 2.86331e-76, 3.33918e-75, 9.204737e-78, 1.206434e-75, 9.55501e-76]\n",
            "[2.0, 2.0, 2.0, 2.0, 2.0, 2.0, 2.0, 2.0, 2.0, 2.0, 2.0, 2.0, 2.0, 2.0, 2.0, 2.0, 2.0, 2.0, 2.0, 2.0, 2.0, 2.0, 2.0, 2.0, 2.0, 2.0, 2.0, 2.0, 2.0, 2.0]\n"
          ],
          "name": "stdout"
        },
        {
          "output_type": "execute_result",
          "data": {
            "text/plain": [
              "[<matplotlib.lines.Line2D at 0x7fb4429880d0>]"
            ]
          },
          "metadata": {
            "tags": []
          },
          "execution_count": 48
        },
        {
          "output_type": "display_data",
          "data": {
            "image/png": "[encoded data removed]",
            "text/plain": [
              "<Figure size 432x288 with 1 Axes>"
            ]
          },
          "metadata": {
            "tags": []
          }
        }
      ]
    },
    {
      "cell_type": "code",
      "metadata": {
        "colab": {
          "base_uri": "https://localhost:8080/",
          "height": 313
        },
        "id": "grdnZVKgSqzt",
        "outputId": "12fe8dfd-244b-4096-e36c-2a8b6b3f3a83"
      },
      "source": [
        "#pdoubledot vs p\n",
        "import matplotlib.pyplot as plt\n",
        "plt.xlabel('p')\n",
        "plt.ylabel('pdoubledot')\n",
        "plt.scatter(l,pdoubledot)"
      ],
      "execution_count": 49,
      "outputs": [
        {
          "output_type": "execute_result",
          "data": {
            "text/plain": [
              "<matplotlib.collections.PathCollection at 0x7fb44296f710>"
            ]
          },
          "metadata": {
            "tags": []
          },
          "execution_count": 49
        },
        {
          "output_type": "display_data",
          "data": {
            "image/png": "[encoded data removed]",
            "text/plain": [
              "<Figure size 432x288 with 1 Axes>"
            ]
          },
          "metadata": {
            "tags": []
          }
        }
      ]
    },
    {
      "cell_type": "code",
      "metadata": {
        "colab": {
          "base_uri": "https://localhost:8080/",
          "height": 313
        },
        "id": "gFKwV7zpYFtE",
        "outputId": "32846824-c2a8-4692-8beb-028312ed55e8"
      },
      "source": [
        "#regression graph\n",
        "import matplotlib.pyplot as plt\n",
        "import pandas as pd\n",
        "import numpy as np\n",
        "#o=pd.concat([l,p,c],ignore_index=True)\n",
        "#o.to_csv('Combined_data.csv')\n",
        "sns.set_theme(color_codes=True)\n",
        "sns.regplot(x=l, y=m)"
      ],
      "execution_count": 50,
      "outputs": [
        {
          "output_type": "execute_result",
          "data": {
            "text/plain": [
              "<matplotlib.axes._subplots.AxesSubplot at 0x7fb44296fcd0>"
            ]
          },
          "metadata": {
            "tags": []
          },
          "execution_count": 50
        },
        {
          "output_type": "display_data",
          "data": {
            "image/png": "[encoded data removed]",
            "text/plain": [
              "<Figure size 432x288 with 1 Axes>"
            ]
          },
          "metadata": {
            "tags": []
          }
        }
      ]
    },
    {
      "cell_type": "code",
      "metadata": {
        "colab": {
          "base_uri": "https://localhost:8080/",
          "height": 313
        },
        "id": "sCSbPRb2cMep",
        "outputId": "16602dca-3731-43e1-c830-d76a587804cc"
      },
      "source": [
        "#B_s vs po\n",
        "import pandas as pd\n",
        "import numpy as np\n",
        "a = o['po']\n",
        "b = o['pdot']\n",
        "d = o['B_s']\n",
        "#e = b*a**(-3)\n",
        "f = np.sort(a)\n",
        "h = np.sort(d)\n",
        "import matplotlib.pyplot as plt\n",
        "plt.xlabel('po')\n",
        "plt.ylabel('B_s')\n",
        "plt.scatter(f,h)"
      ],
      "execution_count": 51,
      "outputs": [
        {
          "output_type": "execute_result",
          "data": {
            "text/plain": [
              "<matplotlib.collections.PathCollection at 0x7fb442846910>"
            ]
          },
          "metadata": {
            "tags": []
          },
          "execution_count": 51
        },
        {
          "output_type": "display_data",
          "data": {
            "image/png": "[encoded data removed]",
            "text/plain": [
              "<Figure size 432x288 with 1 Axes>"
            ]
          },
          "metadata": {
            "tags": []
          }
        }
      ]
    },
    {
      "cell_type": "code",
      "metadata": {
        "colab": {
          "base_uri": "https://localhost:8080/",
          "height": 313
        },
        "id": "1O7Sp3eNcQ7v",
        "outputId": "afafaad5-bc54-4608-eb9d-8b2bf70bdff2"
      },
      "source": [
        "#B_s vs pdot\n",
        "import pandas as pd\n",
        "import numpy as np\n",
        "g = o['pdot']\n",
        "e = o['B_s']\n",
        "i = np.sort(g)\n",
        "j = np.sort(e)\n",
        "import matplotlib.pyplot as plt\n",
        "plt.xlabel('pdot')\n",
        "plt.ylabel('B_s')\n",
        "plt.scatter(i,j)"
      ],
      "execution_count": 52,
      "outputs": [
        {
          "output_type": "execute_result",
          "data": {
            "text/plain": [
              "<matplotlib.collections.PathCollection at 0x7fb44282f250>"
            ]
          },
          "metadata": {
            "tags": []
          },
          "execution_count": 52
        },
        {
          "output_type": "display_data",
          "data": {
            "image/png": "[encoded data removed]",
            "text/plain": [
              "<Figure size 432x288 with 1 Axes>"
            ]
          },
          "metadata": {
            "tags": []
          }
        }
      ]
    },
    {
      "cell_type": "code",
      "metadata": {
        "colab": {
          "base_uri": "https://localhost:8080/",
          "height": 313
        },
        "id": "nwG_EaW2cV6O",
        "outputId": "a514ce4c-4b4a-45a1-b388-ff2f9c114100"
      },
      "source": [
        "import pandas as pd\n",
        "import numpy as np\n",
        "k = o['B_s']\n",
        "l = o['po']\n",
        "m = o['pdot']\n",
        "n = l*m\n",
        "q = np.sort(k)\n",
        "p = np.sort(n)\n",
        "import matplotlib.pyplot as plt\n",
        "plt.xlabel('B_s')\n",
        "plt.ylabel('l*m')\n",
        "plt.scatter(q,p)"
      ],
      "execution_count": 53,
      "outputs": [
        {
          "output_type": "execute_result",
          "data": {
            "text/plain": [
              "<matplotlib.collections.PathCollection at 0x7fb442797b10>"
            ]
          },
          "metadata": {
            "tags": []
          },
          "execution_count": 53
        },
        {
          "output_type": "display_data",
          "data": {
            "image/png": "[encoded data removed]",
            "text/plain": [
              "<Figure size 432x288 with 1 Axes>"
            ]
          },
          "metadata": {
            "tags": []
          }
        }
      ]
    },
    {
      "cell_type": "code",
      "metadata": {
        "colab": {
          "base_uri": "https://localhost:8080/",
          "height": 313
        },
        "id": "rP-cXKP9cpGS",
        "outputId": "6d43c5e7-ade4-4829-b2fa-0f842a33d2d7"
      },
      "source": [
        "#energy density values\n",
        "import pandas as pd\n",
        "import numpy as np\n",
        "import matplotlib.pyplot as plt\n",
        "energydensity = [5.197004e+23,7.329435e+15,1.344718e+16,5.730662e+23,4.070692e+22,4.158539e+24,3.816843e+23,4.189682e+24,4.140784e+15,1.647759e+23,3.404310e+22,1.063169e+23,1.544215e+23,1.159887e+23,9.465151e+25,8.407745e+22,1.063169e+23,2.564554e+23,1.314073e+23,9.385028e+23,6.146583e+27,1.063405e+21,8.793794e+27,1.690987e+29,6.391975e+26,1.965530e+28,1.949545e+28,1.339982e+26,2.700298e+27,2.132199e+28]\n",
        "g = o['po']\n",
        "k = o['B_s']\n",
        "se = np.sort(energydensity)\n",
        "q = np.sort(g)\n",
        "p = np.sort(k)\n",
        "plt.xlabel('energy density')\n",
        "plt.ylabel('B_s')\n",
        "plt.scatter(se,p)"
      ],
      "execution_count": 54,
      "outputs": [
        {
          "output_type": "execute_result",
          "data": {
            "text/plain": [
              "<matplotlib.collections.PathCollection at 0x7fb442707550>"
            ]
          },
          "metadata": {
            "tags": []
          },
          "execution_count": 54
        },
        {
          "output_type": "display_data",
          "data": {
            "image/png": "[encoded data removed]",
            "text/plain": [
              "<Figure size 432x288 with 1 Axes>"
            ]
          },
          "metadata": {
            "tags": []
          }
        }
      ]
    },
    {
      "cell_type": "code",
      "metadata": {
        "colab": {
          "base_uri": "https://localhost:8080/",
          "height": 302
        },
        "id": "1tSdNH8Gg5sX",
        "outputId": "bc3b91ef-fff1-42ab-d565-5fb5e48bc2b8"
      },
      "source": [
        "#energy density vs po\n",
        "import pandas as pd\n",
        "import numpy as np\n",
        "import matplotlib.pyplot as plt\n",
        "plt.xlabel('energy density')\n",
        "plt.ylabel('po')\n",
        "plt.scatter(se,q)"
      ],
      "execution_count": 55,
      "outputs": [
        {
          "output_type": "execute_result",
          "data": {
            "text/plain": [
              "<matplotlib.collections.PathCollection at 0x7fb4433c7090>"
            ]
          },
          "metadata": {
            "tags": []
          },
          "execution_count": 55
        },
        {
          "output_type": "display_data",
          "data": {
            "image/png": "[encoded data removed]",
            "text/plain": [
              "<Figure size 432x288 with 1 Axes>"
            ]
          },
          "metadata": {
            "tags": []
          }
        }
      ]
    },
    {
      "cell_type": "code",
      "metadata": {
        "id": "mMyNEaibSXY0"
      },
      "source": [
        ""
      ],
      "execution_count": 55,
      "outputs": []
    },
    {
      "cell_type": "code",
      "metadata": {
        "id": "Fxxh0z8QNzpD"
      },
      "source": [
        ""
      ],
      "execution_count": 55,
      "outputs": []
    }
  ]
}